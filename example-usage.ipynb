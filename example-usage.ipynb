{
 "cells": [
  {
   "cell_type": "markdown",
   "metadata": {},
   "source": [
    "# Mass-reply all e-mail messages\n",
    "\n",
    "Mass-reply all e-mail messages in an IMAP folder with personalized content, such as sender name, unique hash, subject, based on the original message."
   ]
  },
  {
   "cell_type": "code",
   "execution_count": null,
   "metadata": {},
   "outputs": [],
   "source": [
    "import mailmassreply\n",
    "import logging\n",
    "import datetime\n",
    "import pandas as pd"
   ]
  },
  {
   "cell_type": "code",
   "execution_count": null,
   "metadata": {},
   "outputs": [],
   "source": [
    "logging.basicConfig(level=logging.DEBUG)"
   ]
  },
  {
   "cell_type": "markdown",
   "metadata": {},
   "source": [
    "## Optional: define a list of massages to ignore"
   ]
  },
  {
   "cell_type": "code",
   "execution_count": null,
   "metadata": {},
   "outputs": [],
   "source": [
    "ignore=[\n",
    "    {\n",
    "        'from': '\"Sender One\" <sender@domain.com>',\n",
    "        'date': datetime.datetime(2020, 8, 25, 17, 47, 55, tzinfo=datetime.timezone.utc),\n",
    "        'to': 'you@gmail.com',\n",
    "        'replyto': None,\n",
    "        'sendername': 'Sender One',\n",
    "        'subject': 'Subject line',\n",
    "        'hash': '120d90da21'\n",
    "    },\n",
    "    {\n",
    "        'from': 'sender2@domain.com',\n",
    "        'date': datetime.datetime(2020, 8, 25, 15, 35, 51, tzinfo=datetime.timezone.utc),\n",
    "        'to': 'you@gmail.com',\n",
    "        'replyto': None,\n",
    "        'sendername': '',\n",
    "        'subject': 'Other subject line',\n",
    "        'hash': 'f6e4fc33f0'\n",
    "    }\n",
    "]"
   ]
  },
  {
   "cell_type": "markdown",
   "metadata": {},
   "source": [
    "## Create an e-mail reply machine\n",
    "\n",
    "The `MailMassReply` class gets a long list of parameters becase it automates a lot of actions:\n",
    "\n",
    "1. Connect to your IMAP server with your credentials (`imap_*` parameters)\n",
    "2. Scan a specific folder (`imap_folder`)\n",
    "3. For each e-mail message it finds there, extracts tokens as sender name, e-mail address, message subject, message body etc\n",
    "4. Then build a reply for each and every message attaching the original message (as a regular e-mail client does)\n",
    "5. Use the template files passed on parameters `replytxt` and `replyhtml` and substitute tokens with what was extracted from original message\n",
    "6. Send the actual unique replys through your SMTP server (`smtp_*` parameters). Use `sender` and `replyto` as the person that is replying. Ignore and don't reply messages that appear in `ignore_list`."
   ]
  },
  {
   "cell_type": "code",
   "execution_count": null,
   "metadata": {},
   "outputs": [],
   "source": [
    "a=mailmassreply.MailMassReply(\n",
    "    replytxt='example-reply.txt',\n",
    "    replyhtml='example-reply.html',\n",
    "    \n",
    "    sender='you@gmail.com (Avi Alkalay, senior data engineer & scientist)',\n",
    "    replyto='you+massreply@gmail.com (Avi Alkalay, senior data engineer & scientist)',\n",
    "    \n",
    "    ignore_list=['mail1@domain.com','mail2@domain.com'],\n",
    "    \n",
    "    skip_list=ignore,\n",
    "    \n",
    "    imap_server='imap.gmail.com',\n",
    "    imap_user=\"you@gmail.com\",\n",
    "    imap_password=\"jdl.....sfvu\",\n",
    "\n",
    "    imap_folder='Folder to scan and mass reply',\n",
    "    \n",
    "    smtp_server='smtp.gmail.com',\n",
    "    smtp_user=\"you@gmail.com\",\n",
    "    smtp_password=\"jdl.....sfvu\",\n",
    "    \n",
    "    dryrun=False,\n",
    ")"
   ]
  },
  {
   "cell_type": "markdown",
   "metadata": {},
   "source": [
    "Execute the mass reply machine"
   ]
  },
  {
   "cell_type": "code",
   "execution_count": null,
   "metadata": {},
   "outputs": [],
   "source": [
    "dirtyreport=a.massReply()"
   ]
  },
  {
   "cell_type": "markdown",
   "metadata": {},
   "source": [
    "## Optional: use Pandas to organize, view in a notebook, process and eventually save results as a spreadsheet"
   ]
  },
  {
   "cell_type": "code",
   "execution_count": null,
   "metadata": {},
   "outputs": [],
   "source": [
    "dirtyreport"
   ]
  },
  {
   "cell_type": "code",
   "execution_count": null,
   "metadata": {},
   "outputs": [],
   "source": [
    "report=pd.DataFrame(dirtyreport)"
   ]
  },
  {
   "cell_type": "code",
   "execution_count": null,
   "metadata": {},
   "outputs": [],
   "source": [
    "report"
   ]
  },
  {
   "cell_type": "code",
   "execution_count": null,
   "metadata": {},
   "outputs": [],
   "source": [
    "pd.to_datetime(report['date'], utc=True)"
   ]
  },
  {
   "cell_type": "markdown",
   "metadata": {},
   "source": [
    "# Example of template replys\n",
    "\n",
    "Replys can be HTML or TXT or both. This is how reply templates look like:\n",
    "\n",
    "A template for a pure text reply:\n",
    "<pre>\n",
    "Hello {sendername}\n",
    "\n",
    "This message was sent to you because your message to me was put into an IMAP folder on the recepient.\n",
    "\n",
    "Here is a list of tokens that can be used throughout the message body (as `{{token}}`) that were extracted from the original message:\n",
    "\n",
    "- from\n",
    "- date\n",
    "- to\n",
    "- replyto\n",
    "- sendername\n",
    "- subject\n",
    "- hash - unique hash calculated from sender, date, subject; can be used on links to track interactions.\n",
    "\n",
    "So I'll use them to create a personalized phrase like this:\n",
    "\n",
    "This is a reply to a message from {from}, sent on {date} to {to} and asking for reply on {replyto}.\n",
    "\n",
    "Best,\n",
    "Avi Alkalay</pre>\n",
    "\n",
    "And a template for an HTML reply:\n",
    "\n",
    "```html\n",
    "<p>Hello {sendername}</p>\n",
    "\n",
    "<p>This message was sent to you because your message to me was put into an IMAP folder on the recepient.</p>\n",
    "\n",
    "Here is a list of tokens that can be used throughout the message body (as `{{token}}`) that were extracted from the original message:\n",
    "\n",
    "<ul>\n",
    "    <li>from</li>\n",
    "    <li>date</li>\n",
    "    <li>to</li>\n",
    "    <li>replyto</li>\n",
    "    <li>sendername</li>\n",
    "    <li>subject</li>\n",
    "    <li>hash - unique hash calculated from sender, date, subject; can be used on links to track interactions.</li>\n",
    "</ul>\n",
    "\n",
    "<p>So I'll use them to create a personalized phrase like this:</p>\n",
    "\n",
    "<p>This is a reply to a message from {from}, sent on {date} to {to} and asking for reply on {replyto}.<p>\n",
    "\n",
    "<p>Best,<br/>\n",
    "Avi Alkalay</p>\n",
    "<p>&nbsp;</p>\n",
    "<p>&nbsp;</p>\n",
    "<p>&nbsp;</p>\n",
    "<p>&nbsp;</p>\n",
    "<p>&nbsp;</p>\n",
    "<p>&nbsp;</p>\n",
    "```"
   ]
  }
 ],
 "metadata": {
  "kernelspec": {
   "display_name": "Python 3",
   "language": "python",
   "name": "python3"
  },
  "language_info": {
   "codemirror_mode": {
    "name": "ipython",
    "version": 3
   },
   "file_extension": ".py",
   "mimetype": "text/x-python",
   "name": "python",
   "nbconvert_exporter": "python",
   "pygments_lexer": "ipython3",
   "version": "3.9.1"
  }
 },
 "nbformat": 4,
 "nbformat_minor": 4
}
